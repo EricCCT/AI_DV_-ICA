{
 "cells": [
  {
   "cell_type": "markdown",
   "id": "fff31411",
   "metadata": {},
   "source": [
    "# Installing all required libraries"
   ]
  },
  {
   "cell_type": "code",
   "execution_count": 1,
   "id": "41b081d5",
   "metadata": {},
   "outputs": [],
   "source": [
    "import heapq\n",
    "import time\n",
    "import matplotlib.pyplot as plt\n",
    "import tkinter\n",
    "import numpy\n",
    "import plotly"
   ]
  },
  {
   "cell_type": "code",
   "execution_count": 2,
   "id": "b266e43e",
   "metadata": {},
   "outputs": [
    {
     "name": "stdout",
     "output_type": "stream",
     "text": [
      "Ciara's Company should hire:\n",
      " ['Juan', 'Jane', 'Jim']\n",
      "\n",
      "Ciara & Juan Partnership should hire:\n",
      " ['Anita', 'Peter', 'Jim', 'Jane']\n"
     ]
    }
   ],
   "source": [
    "# checking whether assignment is valid\n",
    "def check_valid_assignment(assignment, constraints):\n",
    "    for constraint in constraints:\n",
    "        if not constraint(assignment):\n",
    "            return False\n",
    "    return True\n",
    "# forward checking function\n",
    "def forward_check(assignment, variables, domains, constraints):\n",
    "    for variable in variables:\n",
    "        if variable not in assignment:\n",
    "            for value in list(domains[variable]):\n",
    "                assignment[variable] = value\n",
    "                if not check_valid_assignment(assignment, constraints):\n",
    "                    domains[variable].remove(value)\n",
    "            assignment[variable] = None\n",
    "# forward checking search function\n",
    "def forward_check_search(assignment, variables, domains, constraints):\n",
    "    if len(assignment) == len(variables):\n",
    "        return assignment\n",
    "\n",
    "    variable = [var for var in variables if var not in assignment]\n",
    "\n",
    "    # check if all variables are assigned\n",
    "    if not variable:\n",
    "        return assignment\n",
    "\n",
    "    variable = variable[0]\n",
    "\n",
    "    for value in domains[variable]:\n",
    "        assignment[variable] = value\n",
    "\n",
    "        forward_check(assignment, variables, domains, constraints)\n",
    "\n",
    "        if check_valid_assignment(assignment, constraints):\n",
    "            result = forward_check_search(assignment, variables, domains, constraints)\n",
    "\n",
    "            if result is not None:\n",
    "                return result\n",
    "\n",
    "        assignment[variable] = None\n",
    "\n",
    "    return None\n",
    "\n",
    "# CSP scenarios\n",
    "scenario_1_vars = ['Juan', 'Jane', 'Jim']\n",
    "scenario_2_vars = ['Anita', 'Peter','Jim', 'Jane']\n",
    "\n",
    "scenario_1_domains = {\n",
    "    'Juan': ['Web Designer', 'AI Engineer'],\n",
    "    'Jim': ['AI Engineer', 'Systems Engineer'],\n",
    "    'Jane': ['Python Programmer', 'Database Admin']\n",
    "}\n",
    "\n",
    "scenario_2_domains = {\n",
    "    'Jim': ['AI Engineer', 'Systems Engineer'],\n",
    "    'Jane': ['Python Programmer', 'Database Admin'],\n",
    "    'Anita': ['Web Designer', 'AI Engineer'],\n",
    "    'Peter': ['Python Programmer', 'AI Engineer']\n",
    "}\n",
    "\n",
    "# assigning Ciara as the first Python Programmer\n",
    "first_assignment_scenario_1 = {'Ciara': 'Python Programmer'}\n",
    "\n",
    "# defining the constraint that each person can have at most two roles\n",
    "def validate_roles_limit(assignment):\n",
    "    # handling uninitialized roles\n",
    "    role_count = {role: 0 for role in ['Python Programmer', 'AI Engineer', 'Web Designer', 'Database Admin', 'Systems Engineer']}\n",
    "\n",
    "    for roles in assignment.values():\n",
    "        for role in roles:\n",
    "            # checking if the role is in the role_count dictionary\n",
    "            if role in role_count:\n",
    "                role_count[role] += 1\n",
    "                if role_count[role] > 2:\n",
    "                    return False\n",
    "            else:\n",
    "                return False\n",
    "    return True\n",
    "\n",
    "constraints = [validate_roles_limit]\n",
    "\n",
    "# determining who to hire in  Scenario 1\n",
    "scenario_1_sol = forward_check_search(first_assignment_scenario_1, scenario_1_vars, scenario_1_domains, constraints.copy())\n",
    "\n",
    "# determining who to hire in  Scenario 2\n",
    "scenario_2_sol = forward_check_search({}, scenario_2_vars, scenario_2_domains, constraints.copy())\n",
    "\n",
    "print(\"Ciara's Company should hire:\\n\", scenario_1_vars)\n",
    "print(\"\\nCiara & Juan Partnership should hire:\\n\", scenario_2_vars)"
   ]
  },
  {
   "cell_type": "code",
   "execution_count": null,
   "id": "679452bd",
   "metadata": {},
   "outputs": [],
   "source": []
  }
 ],
 "metadata": {
  "kernelspec": {
   "display_name": "Python 3 (ipykernel)",
   "language": "python",
   "name": "python3"
  },
  "language_info": {
   "codemirror_mode": {
    "name": "ipython",
    "version": 3
   },
   "file_extension": ".py",
   "mimetype": "text/x-python",
   "name": "python",
   "nbconvert_exporter": "python",
   "pygments_lexer": "ipython3",
   "version": "3.9.12"
  }
 },
 "nbformat": 4,
 "nbformat_minor": 5
}
